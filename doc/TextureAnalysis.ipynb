{
 "cells": [
  {
   "cell_type": "markdown",
   "metadata": {},
   "source": [
    "# Texture feature value simulator\n",
    "Copyright (c) 2016 Tetsuya Shinaji\n",
    "\n",
    "This software and figures are released under the MIT License.\n",
    "\n",
    "http://opensource.org/licenses/mit-license.php"
   ]
  },
  {
   "cell_type": "code",
   "execution_count": 31,
   "metadata": {},
   "outputs": [],
   "source": [
    "import numpy as np\n",
    "from matplotlib import pyplot as plt\n",
    "import sys\n",
    "sys.path.append('../')\n",
    "from TextureAnalysis import GLCM_3D, GLSZM_3D, NGTDM, GLHA\n",
    "from ipywidgets import interact\n",
    "from IPython.core.pylabtools import figsize\n",
    "import pandas as pd\n",
    "from IPython.display import display\n",
    "from matplotlib import gridspec\n",
    "from mpl_toolkits.axes_grid1 import make_axes_locatable\n",
    "\n",
    "def get_circle_img(r):\n",
    "    y, x = np.ogrid[-64:128-64, -64:128-64]\n",
    "    mask = x*x + y*y <= r*r\n",
    "    array = np.zeros((1, 128, 128))\n",
    "    array[0, mask] = 1\n",
    "    return array, np.sqrt(x*x + y*y)\n",
    "\n",
    "%matplotlib inline"
   ]
  },
  {
   "cell_type": "markdown",
   "metadata": {},
   "source": [
    "## GLCM: Gray-Level Co-occurrence Matrix"
   ]
  },
  {
   "cell_type": "markdown",
   "metadata": {},
   "source": [
    "![image](./imgs/GLCM.png)"
   ]
  },
  {
   "cell_type": "code",
   "execution_count": 17,
   "metadata": {},
   "outputs": [
    {
     "data": {
      "application/vnd.jupyter.widget-view+json": {
       "model_id": "2ac9efb42c4741519a165b83697146bb"
      }
     },
     "metadata": {},
     "output_type": "display_data"
    }
   ],
   "source": [
    "figsize(10, 10)\n",
    "@interact(max_intensity=(1, 64, 1), heterogeneity=(1, 100, 1), intensity_variation=(0, 100, 1), size=(1, 64, 1))\n",
    "def test_glcm_dist(max_intensity=50, heterogeneity=15, intensity_variation=85, size=35):\n",
    "    base_img, distance = get_circle_img(size)\n",
    "    if intensity_variation == 0:\n",
    "        grad_img = np.ones_like(base_img)\n",
    "    else:\n",
    "        grad_img = np.exp(-distance/(101-intensity_variation)).reshape(1, 128, 128)\n",
    "    example_img =  np.random.normal(base_img*max_intensity*grad_img, heterogeneity/2.354820)*base_img.astype(float)\n",
    "    glcm = GLCM_3D(example_img, d=1, level_min=1, level_max=64, threshold=1)\n",
    "    plt.subplot(121)\n",
    "    plt.subplots_adjust(wspace=0.35)\n",
    "    plt.title('A given image')\n",
    "    img = plt.imshow(glcm.img[0], vmin=0)\n",
    "    cbar = plt.colorbar(img, fraction=0.046, pad=0.04)\n",
    "    cbar.set_label('Pixel value')\n",
    "    plt.subplot(122)\n",
    "    plt.title('GLCM')\n",
    "    img = plt.imshow(glcm.matrix*100, extent=([1, 64, 64, 1]))\n",
    "    plt.ylabel('Center pixel value')\n",
    "    plt.xlabel('Neighbor pixel value')\n",
    "    cbar = plt.colorbar(img, fraction=0.046, pad=0.04)\n",
    "    cbar.set_label('Probability [%]')\n",
    "    plt.show()\n",
    "    features =pd.DataFrame.from_dict(glcm.features, orient=\"index\")\n",
    "    features.columns = ['Texture feature value']\n",
    "    display(features)"
   ]
  },
  {
   "cell_type": "markdown",
   "metadata": {},
   "source": [
    "## GLSZM: Gray Level Size Zone Matrix"
   ]
  },
  {
   "cell_type": "markdown",
   "metadata": {},
   "source": [
    "![image](./imgs/GLSZM.png)"
   ]
  },
  {
   "cell_type": "code",
   "execution_count": 18,
   "metadata": {},
   "outputs": [
    {
     "data": {
      "application/vnd.jupyter.widget-view+json": {
       "model_id": "4fb81d920b2344779703b88ccf16cde5"
      }
     },
     "metadata": {},
     "output_type": "display_data"
    }
   ],
   "source": [
    "figsize(10, 10)\n",
    "@interact(max_intensity=(1, 64, 1), heterogeneity=(1, 100, 1), intensity_variation=(0, 100, 1), size=(1, 64, 1))\n",
    "def test_normal_dist(max_intensity=50, heterogeneity=15, intensity_variation=85, size=35):\n",
    "    base_img, distance = get_circle_img(size)\n",
    "    if intensity_variation == 0:\n",
    "        grad_img = np.ones_like(base_img)\n",
    "    else:\n",
    "        grad_img = np.exp(-distance/(101-intensity_variation)).reshape(1, 128, 128)\n",
    "    example_img =  np.random.normal(base_img*max_intensity*grad_img, heterogeneity/2.354820)*base_img.astype(float)\n",
    "    glszm = GLSZM_3D(example_img, level_min=1, level_max=64, threshold=1)\n",
    "    plt.subplots_adjust(wspace=0.5)\n",
    "    fig = plt.gcf()\n",
    "    ax1 = plt.subplot(121)\n",
    "    ax1.set_title('A given image')\n",
    "    img1 = ax1.imshow(glszm.img[0], vmin=0)\n",
    "    cbar1 = fig.colorbar(img1,fraction=0.046, pad=0.04)\n",
    "    cbar1.set_label('Pixel value')\n",
    "    ax2 = plt.subplot(122)\n",
    "    ax2.set_title('GLSZM')\n",
    "    img2 = ax2.imshow(glszm.matrix, \n",
    "                     aspect=glszm.matrix.shape[1]/glszm.matrix.shape[0],\n",
    "                     extent=[0.5, glszm.matrix.shape[1]+0.5, glszm.matrix.shape[0]+1, 1])\n",
    "    ax2.set_ylabel('Pixel value')\n",
    "    ax2.set_xlabel('Size')\n",
    "    cbar2 = fig.colorbar(img2, fraction=0.046, pad=0.04)\n",
    "    cbar2.set_label('Number of areas')\n",
    "    plt.show()\n",
    "    features =pd.DataFrame.from_dict(glszm.features, orient=\"index\")\n",
    "    features.columns = ['Texture feature value']\n",
    "    display(features)"
   ]
  },
  {
   "cell_type": "markdown",
   "metadata": {},
   "source": [
    "## NGTDM: Neighbourhood Gray-Tone-Difference Matrix"
   ]
  },
  {
   "cell_type": "markdown",
   "metadata": {},
   "source": [
    "![image](./imgs/NGTDM.png)"
   ]
  },
  {
   "cell_type": "code",
   "execution_count": 4,
   "metadata": {},
   "outputs": [
    {
     "data": {
      "application/vnd.jupyter.widget-view+json": {
       "model_id": "25faffdb01e6487393d4522932d68f3b"
      }
     },
     "metadata": {},
     "output_type": "display_data"
    }
   ],
   "source": [
    "figsize(10, 10)\n",
    "@interact(max_intensity=(1, 64, 1), heterogeneity=(1, 100, 1), intensity_variation=(0, 100, 1), size=(1, 64, 1))\n",
    "def test_normal_dist(max_intensity=50, heterogeneity=15, intensity_variation=85, size=35):\n",
    "    base_img, distance = get_circle_img(size)\n",
    "    if intensity_variation == 0:\n",
    "        grad_img = np.ones_like(base_img)\n",
    "    else:\n",
    "        grad_img = np.exp(-distance/(101-intensity_variation)).reshape(1, 128, 128)\n",
    "    example_img =  np.random.normal(base_img*max_intensity*grad_img, heterogeneity/2.354820)*base_img.astype(float)\n",
    "    ngtdm = NGTDM(example_img[0], level_min=0, level_max=63, threshold=1)\n",
    "    plt.subplots_adjust(wspace=0.5)\n",
    "    fig = plt.gcf()\n",
    "    ax1 = plt.subplot(121)\n",
    "    ax1.set_title('A given image')\n",
    "    img1 = ax1.imshow(ngtdm.img, vmin=0)\n",
    "    cbar1 = fig.colorbar(img1,fraction=0.046, pad=0.04)\n",
    "    cbar1.set_label('Pixel value')\n",
    "    ax2 = plt.subplot(122)\n",
    "    ax2.set_title('NGTDM')\n",
    "    img2 = ax2.imshow(ngtdm.s.reshape(ngtdm.s.size, 1), \n",
    "                     aspect=1/ngtdm.s.shape[0],\n",
    "                     extent=[0.5, 1+0.5, ngtdm.s.shape[0]+1, 1])\n",
    "    ax2.set_ylabel('Pixel value')\n",
    "    cbar2 = fig.colorbar(img2, fraction=0.046, pad=0.04)\n",
    "    plt.show()\n",
    "    features =pd.DataFrame.from_dict(ngtdm.features, orient=\"index\")\n",
    "    features.columns = ['Texture feature value']\n",
    "    display(features)"
   ]
  },
  {
   "cell_type": "markdown",
   "metadata": {
    "collapsed": true
   },
   "source": [
    "## GLHA: Gray Level Histogram Analysis"
   ]
  },
  {
   "cell_type": "code",
   "execution_count": 44,
   "metadata": {},
   "outputs": [
    {
     "data": {
      "application/vnd.jupyter.widget-view+json": {
       "model_id": "f6c1961057c844fd9d8cd314898c3671"
      }
     },
     "metadata": {},
     "output_type": "display_data"
    }
   ],
   "source": [
    "figsize(10, 10)\n",
    "@interact(max_intensity=(1, 64, 1), heterogeneity=(1, 100, 1), intensity_variation=(0, 100, 1), size=(1, 64, 1))\n",
    "def test_normal_dist(max_intensity=50, heterogeneity=15, intensity_variation=85, size=35):\n",
    "    base_img, distance = get_circle_img(size)\n",
    "    if intensity_variation == 0:\n",
    "        grad_img = np.ones_like(base_img)\n",
    "    else:\n",
    "        grad_img = np.exp(-distance/(101-intensity_variation)).reshape(1, 128, 128)\n",
    "    example_img =  np.random.normal(base_img*max_intensity*grad_img, heterogeneity/2.354820)*base_img.astype(float)\n",
    "    glha = GLHA(example_img, level_min=0, level_max=63, threshold=1)\n",
    "    plt.subplots_adjust(wspace=0.5)\n",
    "    fig = plt.gcf()\n",
    "    ax1 = plt.subplot(121)\n",
    "    ax1.set_title('A given image')\n",
    "    img1 = ax1.imshow(glha.img[0], vmin=0)\n",
    "    cbar1 = fig.colorbar(img1, fraction=0.046, pad=0.04)\n",
    "    cbar1.set_label('Pixel value')\n",
    "    ax2 = plt.subplot(122)\n",
    "    hst = plt.hist(glha.img.flatten(), bins=64, range=[1, 64])\n",
    "    plt.xlabel('Pixel value')\n",
    "    plt.ylabel('Frequency')\n",
    "    plt.title('Histogram')\n",
    "    ax2.set_aspect(64/hst[0].max())\n",
    "    plt.show()\n",
    "    features =pd.DataFrame.from_dict(glha.features, orient=\"index\")\n",
    "    features.columns = ['Texture feature value']\n",
    "    display(features)"
   ]
  }
 ],
 "metadata": {
  "kernelspec": {
   "display_name": "Python 3",
   "language": "python",
   "name": "python3"
  },
  "language_info": {
   "codemirror_mode": {
    "name": "ipython",
    "version": 3
   },
   "file_extension": ".py",
   "mimetype": "text/x-python",
   "name": "python",
   "nbconvert_exporter": "python",
   "pygments_lexer": "ipython3",
   "version": "3.6.1"
  }
 },
 "nbformat": 4,
 "nbformat_minor": 1
}
